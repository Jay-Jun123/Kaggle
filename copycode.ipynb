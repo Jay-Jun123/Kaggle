{
 "cells": [
  {
   "cell_type": "markdown",
   "metadata": {},
   "source": [
    "# 분석에 앞서 분석할 데이터 확인\n",
    "- 분석할 데이터 : Titanic Data, 사상 최대의 해난 사고이며 1,500명의 희생자가 생김\n",
    "- 분석 목적 : 신상정보를 활용하여 승선한 사람들의 생존여부를 예측하는 모델 생성\n",
    "- 활용 라이브러리 : 미리 정해놓고 하면 안되지만 필사이기에 정해져있음\n",
    "    - 시각화 : matplotlib, seaborn, plotly\n",
    "    - 분석도구 : pandas, numpy\n",
    "    - ML도구 : sklearn"
   ]
  },
  {
   "cell_type": "code",
   "execution_count": 11,
   "metadata": {},
   "outputs": [],
   "source": [
    "# 라이브러리\n",
    "import zipfile\n",
    "\n",
    "import numpy as np\n",
    "import pandas as pd\n",
    "\n",
    "import matplotlib.pyplot as plt\n",
    "import seaborn as sns\n",
    "\n",
    "import missingno as msno\n",
    "\n",
    "import warnings\n",
    "warnings.filterwarnings('ignore')\n",
    "\n",
    "%matplotlib inline"
   ]
  },
  {
   "cell_type": "code",
   "execution_count": 12,
   "metadata": {},
   "outputs": [],
   "source": [
    "# seaborn scheme,  font_scale setting\n",
    "plt.style.use('seaborn')\n",
    "sns.set(font_scale=2.5)"
   ]
  },
  {
   "cell_type": "markdown",
   "metadata": {},
   "source": [
    "# 1. Data 불러오기"
   ]
  },
  {
   "cell_type": "code",
   "execution_count": 4,
   "metadata": {},
   "outputs": [],
   "source": [
    "# zip 파일에서 data 압축풀기\n",
    "titanic_zip = zipfile.ZipFile('E:/github/Titanic/data/titanic.zip')\n",
    "titanic_zip.extractall('E:/github/Titanic/data')\n",
    "titanic_zip.close()"
   ]
  },
  {
   "cell_type": "code",
   "execution_count": 7,
   "metadata": {},
   "outputs": [],
   "source": [
    "# train, test data 불러오기"
   ]
  },
  {
   "cell_type": "markdown",
   "metadata": {},
   "source": [
    "path_to_zip_file = '압축파일 경로'\n",
    "directory_to_extract_to = '압축 풀고 저장할 경로'\n",
    "\n",
    "import zipfile\n",
    "with zipfile.ZipFile(path_to_zip_file, 'r') as zip_ref:\n",
    "    zip_ref.extractall(directory_to_extract_to)"
   ]
  }
 ],
 "metadata": {
  "interpreter": {
   "hash": "df3f597ac39504d153d8f730fa1729b0fbc4920dc39786eaa5b7990bfaa9b3bf"
  },
  "kernelspec": {
   "display_name": "Python 3.9.7 64-bit (system)",
   "name": "python3"
  },
  "language_info": {
   "codemirror_mode": {
    "name": "ipython",
    "version": 3
   },
   "file_extension": ".py",
   "mimetype": "text/x-python",
   "name": "python",
   "nbconvert_exporter": "python",
   "pygments_lexer": "ipython3",
   "version": "3.9.7"
  },
  "orig_nbformat": 4
 },
 "nbformat": 4,
 "nbformat_minor": 2
}
